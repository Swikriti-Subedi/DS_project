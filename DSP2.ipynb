{
 "cells": [
  {
   "cell_type": "code",
   "execution_count": 19,
   "id": "c0874a4e",
   "metadata": {},
   "outputs": [],
   "source": [
    "import pandas as pd\n",
    "import numpy as np\n",
    "import matplotlib.pyplot as plt\n",
    "import seaborn as sns\n",
    "from scipy import stats\n",
    "from sklearn.linear_model import LinearRegression"
   ]
  },
  {
   "cell_type": "code",
   "execution_count": 21,
   "id": "f2609176",
   "metadata": {},
   "outputs": [
    {
     "name": "stdout",
     "output_type": "stream",
     "text": [
      "  Adult..15...literacy.rate......Total  X1975  X1976  X1977  X1978      X1979  \\\n",
      "0                          Afghanistan    NaN    NaN    NaN    NaN  18.157681   \n",
      "1                              Albania    NaN    NaN    NaN    NaN        NaN   \n",
      "2                              Algeria    NaN    NaN    NaN    NaN        NaN   \n",
      "3                              Andorra    NaN    NaN    NaN    NaN        NaN   \n",
      "4                               Angola    NaN    NaN    NaN    NaN        NaN   \n",
      "\n",
      "   X1980  X1981  X1982  X1983  ...    X2002  X2003  X2004  X2005      X2006  \\\n",
      "0    NaN    NaN    NaN    NaN  ...      NaN    NaN    NaN    NaN        NaN   \n",
      "1    NaN    NaN    NaN    NaN  ...      NaN    NaN    NaN    NaN        NaN   \n",
      "2    NaN    NaN    NaN    NaN  ...  69.8735    NaN    NaN    NaN  72.648679   \n",
      "3    NaN    NaN    NaN    NaN  ...      NaN    NaN    NaN    NaN        NaN   \n",
      "4    NaN    NaN    NaN    NaN  ...      NaN    NaN    NaN    NaN        NaN   \n",
      "\n",
      "   X2007     X2008  X2009  X2010      X2011  \n",
      "0    NaN       NaN    NaN    NaN  39.000000  \n",
      "1    NaN  95.93864    NaN    NaN  96.845299  \n",
      "2    NaN       NaN    NaN    NaN        NaN  \n",
      "3    NaN       NaN    NaN    NaN        NaN  \n",
      "4    NaN       NaN    NaN    NaN  70.362420  \n",
      "\n",
      "[5 rows x 38 columns]\n"
     ]
    }
   ],
   "source": [
    "path1 = \"/Users/macmine/PycharmProjects/homework/ds project file/dental data/adultliteracy.csv\"\n",
    "dfal = pd.read_csv(path1)\n",
    "print(dfal.head(5))\n",
    "\n",
    "\n",
    "\n",
    "\n",
    "\n"
   ]
  },
  {
   "cell_type": "code",
   "execution_count": 22,
   "id": "098b1fbc",
   "metadata": {},
   "outputs": [
    {
     "data": {
      "text/html": [
       "<div>\n",
       "<style scoped>\n",
       "    .dataframe tbody tr th:only-of-type {\n",
       "        vertical-align: middle;\n",
       "    }\n",
       "\n",
       "    .dataframe tbody tr th {\n",
       "        vertical-align: top;\n",
       "    }\n",
       "\n",
       "    .dataframe thead th {\n",
       "        text-align: right;\n",
       "    }\n",
       "</style>\n",
       "<table border=\"1\" class=\"dataframe\">\n",
       "  <thead>\n",
       "    <tr style=\"text-align: right;\">\n",
       "      <th></th>\n",
       "      <th>Country</th>\n",
       "      <th>avg_literacy</th>\n",
       "    </tr>\n",
       "  </thead>\n",
       "  <tbody>\n",
       "    <tr>\n",
       "      <th>0</th>\n",
       "      <td>Afghanistan</td>\n",
       "      <td>28.578841</td>\n",
       "    </tr>\n",
       "    <tr>\n",
       "      <th>1</th>\n",
       "      <td>Albania</td>\n",
       "      <td>97.165639</td>\n",
       "    </tr>\n",
       "    <tr>\n",
       "      <th>2</th>\n",
       "      <td>Algeria</td>\n",
       "      <td>64.051021</td>\n",
       "    </tr>\n",
       "    <tr>\n",
       "      <th>4</th>\n",
       "      <td>Angola</td>\n",
       "      <td>68.883918</td>\n",
       "    </tr>\n",
       "    <tr>\n",
       "      <th>5</th>\n",
       "      <td>Anguilla</td>\n",
       "      <td>95.407098</td>\n",
       "    </tr>\n",
       "    <tr>\n",
       "      <th>...</th>\n",
       "      <td>...</td>\n",
       "      <td>...</td>\n",
       "    </tr>\n",
       "    <tr>\n",
       "      <th>204</th>\n",
       "      <td>West Bank and Gaza</td>\n",
       "      <td>93.066504</td>\n",
       "    </tr>\n",
       "    <tr>\n",
       "      <th>205</th>\n",
       "      <td>Vietnam</td>\n",
       "      <td>89.043258</td>\n",
       "    </tr>\n",
       "    <tr>\n",
       "      <th>206</th>\n",
       "      <td>Yemen, Rep.</td>\n",
       "      <td>52.365825</td>\n",
       "    </tr>\n",
       "    <tr>\n",
       "      <th>207</th>\n",
       "      <td>Zambia</td>\n",
       "      <td>65.894390</td>\n",
       "    </tr>\n",
       "    <tr>\n",
       "      <th>208</th>\n",
       "      <td>Zimbabwe</td>\n",
       "      <td>81.629820</td>\n",
       "    </tr>\n",
       "  </tbody>\n",
       "</table>\n",
       "<p>156 rows × 2 columns</p>\n",
       "</div>"
      ],
      "text/plain": [
       "                Country  avg_literacy\n",
       "0           Afghanistan     28.578841\n",
       "1               Albania     97.165639\n",
       "2               Algeria     64.051021\n",
       "4                Angola     68.883918\n",
       "5              Anguilla     95.407098\n",
       "..                  ...           ...\n",
       "204  West Bank and Gaza     93.066504\n",
       "205             Vietnam     89.043258\n",
       "206         Yemen, Rep.     52.365825\n",
       "207              Zambia     65.894390\n",
       "208            Zimbabwe     81.629820\n",
       "\n",
       "[156 rows x 2 columns]"
      ]
     },
     "execution_count": 22,
     "metadata": {},
     "output_type": "execute_result"
    }
   ],
   "source": [
    "#changing name of column to country\n",
    "dfal.rename(index=str,columns={\"Adult..15...literacy.rate......Total\":\"Country\"}, inplace=True)\n",
    "\n",
    "#drop column with nan\n",
    "dfal.dropna(how=\"all\", subset = list(dfal.columns)[1:], inplace=True)\n",
    "\n",
    "\n",
    "#take the avg of literacy over time \n",
    "dfal[\"avg_literacy\"] = dfal[list(dfal.columns)[1:]].mean(axis=1,skipna = True)\n",
    "dfal.drop(list(dfal.columns)[1:dfal.shape[1]-1], axis = 1, inplace = True)\n",
    "\n",
    "#len(dfal.index)\n",
    "\n",
    "dfal.head(156)\n",
    "\n"
   ]
  },
  {
   "cell_type": "code",
   "execution_count": 23,
   "id": "0a8b8f2c",
   "metadata": {},
   "outputs": [],
   "source": [
    "path2 = \"/Users/macmine/PycharmProjects/homework/ds project file/dental data/badteeth.csv\"\n",
    "dft=pd.read_csv(path2)\n",
    "\n"
   ]
  },
  {
   "cell_type": "code",
   "execution_count": 24,
   "id": "a4857697",
   "metadata": {},
   "outputs": [],
   "source": [
    "#drop the other columns\n",
    "dft.drop([\"NA..1\", \"NA..2\", \"NA..3\"], axis = 1, inplace = True)\n",
    "\n",
    "\n"
   ]
  },
  {
   "cell_type": "code",
   "execution_count": 25,
   "id": "52882c7d",
   "metadata": {},
   "outputs": [
    {
     "data": {
      "text/html": [
       "<div>\n",
       "<style scoped>\n",
       "    .dataframe tbody tr th:only-of-type {\n",
       "        vertical-align: middle;\n",
       "    }\n",
       "\n",
       "    .dataframe tbody tr th {\n",
       "        vertical-align: top;\n",
       "    }\n",
       "\n",
       "    .dataframe thead th {\n",
       "        text-align: right;\n",
       "    }\n",
       "</style>\n",
       "<table border=\"1\" class=\"dataframe\">\n",
       "  <thead>\n",
       "    <tr style=\"text-align: right;\">\n",
       "      <th></th>\n",
       "      <th>Country</th>\n",
       "      <th>DMFT_score</th>\n",
       "    </tr>\n",
       "  </thead>\n",
       "  <tbody>\n",
       "    <tr>\n",
       "      <th>108</th>\n",
       "      <td>Martinique</td>\n",
       "      <td>6.30</td>\n",
       "    </tr>\n",
       "    <tr>\n",
       "      <th>143</th>\n",
       "      <td>Saint Lucia</td>\n",
       "      <td>6.00</td>\n",
       "    </tr>\n",
       "    <tr>\n",
       "      <th>147</th>\n",
       "      <td>Saudi Arabia</td>\n",
       "      <td>5.90</td>\n",
       "    </tr>\n",
       "    <tr>\n",
       "      <th>142</th>\n",
       "      <td>Saint Kitts and Nevis</td>\n",
       "      <td>5.50</td>\n",
       "    </tr>\n",
       "    <tr>\n",
       "      <th>149</th>\n",
       "      <td>Serbia and Montenegro</td>\n",
       "      <td>5.35</td>\n",
       "    </tr>\n",
       "    <tr>\n",
       "      <th>...</th>\n",
       "      <td>...</td>\n",
       "      <td>...</td>\n",
       "    </tr>\n",
       "    <tr>\n",
       "      <th>95</th>\n",
       "      <td>Liberia</td>\n",
       "      <td>0.40</td>\n",
       "    </tr>\n",
       "    <tr>\n",
       "      <th>169</th>\n",
       "      <td>Togo</td>\n",
       "      <td>0.30</td>\n",
       "    </tr>\n",
       "    <tr>\n",
       "      <th>167</th>\n",
       "      <td>Tanzania</td>\n",
       "      <td>0.30</td>\n",
       "    </tr>\n",
       "    <tr>\n",
       "      <th>141</th>\n",
       "      <td>Rwanda</td>\n",
       "      <td>0.30</td>\n",
       "    </tr>\n",
       "    <tr>\n",
       "      <th>18</th>\n",
       "      <td>Bermuda</td>\n",
       "      <td>0.20</td>\n",
       "    </tr>\n",
       "  </tbody>\n",
       "</table>\n",
       "<p>190 rows × 2 columns</p>\n",
       "</div>"
      ],
      "text/plain": [
       "                   Country  DMFT_score\n",
       "108             Martinique        6.30\n",
       "143            Saint Lucia        6.00\n",
       "147           Saudi Arabia        5.90\n",
       "142  Saint Kitts and Nevis        5.50\n",
       "149  Serbia and Montenegro        5.35\n",
       "..                     ...         ...\n",
       "95                 Liberia        0.40\n",
       "169                   Togo        0.30\n",
       "167               Tanzania        0.30\n",
       "141                 Rwanda        0.30\n",
       "18                 Bermuda        0.20\n",
       "\n",
       "[190 rows x 2 columns]"
      ]
     },
     "execution_count": 25,
     "metadata": {},
     "output_type": "execute_result"
    }
   ],
   "source": [
    "#drop column with NaN\n",
    "dft.dropna(inplace = True)\n",
    "\n",
    "#changing name of 1st 2 columns\n",
    "dft.rename(columns={\"NA.\":\"Country\", \"X2004\":\"DMFT_score\"}, inplace=True)\n",
    "\n",
    "#dft.count - to see number of rows and column\n",
    "#dft.shape[0] or len(dft.index) - to see number of rows only\n",
    "\n",
    "\n",
    "\n",
    "#to sort in ascd order\n",
    "dft.sort_values(by=[\"DMFT_score\"], ascending=[0], inplace = True)\n",
    "\n",
    "\n",
    "dft.head(n=190)"
   ]
  },
  {
   "cell_type": "code",
   "execution_count": 26,
   "id": "aafcf336",
   "metadata": {},
   "outputs": [],
   "source": [
    "path3=\"/Users/macmine/PycharmProjects/homework/ds project file/dental data/sugar_consumption.csv\"\n",
    "dfs=pd.read_csv(path3)\n",
    "\n"
   ]
  },
  {
   "cell_type": "code",
   "execution_count": 27,
   "id": "230fe7c9",
   "metadata": {},
   "outputs": [],
   "source": [
    "#changing name of column to country\n",
    "dfs.rename(columns={\"NA.\":\"Country\"}, inplace=True)\n",
    "\n",
    "\n",
    "\n",
    "\n",
    "\n"
   ]
  },
  {
   "cell_type": "code",
   "execution_count": 28,
   "id": "049976c0",
   "metadata": {},
   "outputs": [
    {
     "data": {
      "text/html": [
       "<div>\n",
       "<style scoped>\n",
       "    .dataframe tbody tr th:only-of-type {\n",
       "        vertical-align: middle;\n",
       "    }\n",
       "\n",
       "    .dataframe tbody tr th {\n",
       "        vertical-align: top;\n",
       "    }\n",
       "\n",
       "    .dataframe thead th {\n",
       "        text-align: right;\n",
       "    }\n",
       "</style>\n",
       "<table border=\"1\" class=\"dataframe\">\n",
       "  <thead>\n",
       "    <tr style=\"text-align: right;\">\n",
       "      <th></th>\n",
       "      <th>Country</th>\n",
       "      <th>X1961</th>\n",
       "      <th>X1962</th>\n",
       "      <th>X1963</th>\n",
       "      <th>X1964</th>\n",
       "      <th>X1965</th>\n",
       "      <th>X1966</th>\n",
       "      <th>X1967</th>\n",
       "      <th>X1968</th>\n",
       "      <th>X1969</th>\n",
       "      <th>...</th>\n",
       "      <th>X1997</th>\n",
       "      <th>X1998</th>\n",
       "      <th>X1999</th>\n",
       "      <th>X2000</th>\n",
       "      <th>X2001</th>\n",
       "      <th>X2002</th>\n",
       "      <th>X2003</th>\n",
       "      <th>X2004</th>\n",
       "      <th>NA..1</th>\n",
       "      <th>avg_sugar_consp</th>\n",
       "    </tr>\n",
       "  </thead>\n",
       "  <tbody>\n",
       "    <tr>\n",
       "      <th>0</th>\n",
       "      <td>Abkhazia</td>\n",
       "      <td>NaN</td>\n",
       "      <td>NaN</td>\n",
       "      <td>NaN</td>\n",
       "      <td>NaN</td>\n",
       "      <td>NaN</td>\n",
       "      <td>NaN</td>\n",
       "      <td>NaN</td>\n",
       "      <td>NaN</td>\n",
       "      <td>NaN</td>\n",
       "      <td>...</td>\n",
       "      <td>NaN</td>\n",
       "      <td>NaN</td>\n",
       "      <td>NaN</td>\n",
       "      <td>NaN</td>\n",
       "      <td>NaN</td>\n",
       "      <td>NaN</td>\n",
       "      <td>NaN</td>\n",
       "      <td>NaN</td>\n",
       "      <td>NaN</td>\n",
       "      <td>NaN</td>\n",
       "    </tr>\n",
       "    <tr>\n",
       "      <th>1</th>\n",
       "      <td>Afghanistan</td>\n",
       "      <td>NaN</td>\n",
       "      <td>NaN</td>\n",
       "      <td>NaN</td>\n",
       "      <td>NaN</td>\n",
       "      <td>NaN</td>\n",
       "      <td>NaN</td>\n",
       "      <td>NaN</td>\n",
       "      <td>NaN</td>\n",
       "      <td>NaN</td>\n",
       "      <td>...</td>\n",
       "      <td>NaN</td>\n",
       "      <td>NaN</td>\n",
       "      <td>NaN</td>\n",
       "      <td>NaN</td>\n",
       "      <td>NaN</td>\n",
       "      <td>NaN</td>\n",
       "      <td>NaN</td>\n",
       "      <td>NaN</td>\n",
       "      <td>NaN</td>\n",
       "      <td>NaN</td>\n",
       "    </tr>\n",
       "    <tr>\n",
       "      <th>2</th>\n",
       "      <td>Akrotiri and Dhekelia</td>\n",
       "      <td>NaN</td>\n",
       "      <td>NaN</td>\n",
       "      <td>NaN</td>\n",
       "      <td>NaN</td>\n",
       "      <td>NaN</td>\n",
       "      <td>NaN</td>\n",
       "      <td>NaN</td>\n",
       "      <td>NaN</td>\n",
       "      <td>NaN</td>\n",
       "      <td>...</td>\n",
       "      <td>NaN</td>\n",
       "      <td>NaN</td>\n",
       "      <td>NaN</td>\n",
       "      <td>NaN</td>\n",
       "      <td>NaN</td>\n",
       "      <td>NaN</td>\n",
       "      <td>NaN</td>\n",
       "      <td>NaN</td>\n",
       "      <td>NaN</td>\n",
       "      <td>NaN</td>\n",
       "    </tr>\n",
       "    <tr>\n",
       "      <th>3</th>\n",
       "      <td>Albania</td>\n",
       "      <td>30.14</td>\n",
       "      <td>30.14</td>\n",
       "      <td>32.88</td>\n",
       "      <td>35.62</td>\n",
       "      <td>35.62</td>\n",
       "      <td>35.62</td>\n",
       "      <td>38.36</td>\n",
       "      <td>38.36</td>\n",
       "      <td>38.36</td>\n",
       "      <td>...</td>\n",
       "      <td>60.27</td>\n",
       "      <td>60.27</td>\n",
       "      <td>57.53</td>\n",
       "      <td>65.75</td>\n",
       "      <td>68.49</td>\n",
       "      <td>71.23</td>\n",
       "      <td>65.75</td>\n",
       "      <td>65.75</td>\n",
       "      <td>NaN</td>\n",
       "      <td>49.504318</td>\n",
       "    </tr>\n",
       "    <tr>\n",
       "      <th>4</th>\n",
       "      <td>Algeria</td>\n",
       "      <td>46.58</td>\n",
       "      <td>49.32</td>\n",
       "      <td>46.58</td>\n",
       "      <td>49.32</td>\n",
       "      <td>46.58</td>\n",
       "      <td>46.58</td>\n",
       "      <td>49.32</td>\n",
       "      <td>49.32</td>\n",
       "      <td>46.58</td>\n",
       "      <td>...</td>\n",
       "      <td>79.45</td>\n",
       "      <td>54.80</td>\n",
       "      <td>60.27</td>\n",
       "      <td>82.19</td>\n",
       "      <td>79.45</td>\n",
       "      <td>82.19</td>\n",
       "      <td>84.93</td>\n",
       "      <td>84.93</td>\n",
       "      <td>NaN</td>\n",
       "      <td>67.995227</td>\n",
       "    </tr>\n",
       "    <tr>\n",
       "      <th>...</th>\n",
       "      <td>...</td>\n",
       "      <td>...</td>\n",
       "      <td>...</td>\n",
       "      <td>...</td>\n",
       "      <td>...</td>\n",
       "      <td>...</td>\n",
       "      <td>...</td>\n",
       "      <td>...</td>\n",
       "      <td>...</td>\n",
       "      <td>...</td>\n",
       "      <td>...</td>\n",
       "      <td>...</td>\n",
       "      <td>...</td>\n",
       "      <td>...</td>\n",
       "      <td>...</td>\n",
       "      <td>...</td>\n",
       "      <td>...</td>\n",
       "      <td>...</td>\n",
       "      <td>...</td>\n",
       "      <td>...</td>\n",
       "      <td>...</td>\n",
       "    </tr>\n",
       "    <tr>\n",
       "      <th>254</th>\n",
       "      <td>Yemen, Rep.</td>\n",
       "      <td>27.40</td>\n",
       "      <td>30.14</td>\n",
       "      <td>24.66</td>\n",
       "      <td>24.66</td>\n",
       "      <td>35.62</td>\n",
       "      <td>38.36</td>\n",
       "      <td>41.10</td>\n",
       "      <td>46.58</td>\n",
       "      <td>41.10</td>\n",
       "      <td>...</td>\n",
       "      <td>63.01</td>\n",
       "      <td>63.01</td>\n",
       "      <td>60.27</td>\n",
       "      <td>63.01</td>\n",
       "      <td>60.27</td>\n",
       "      <td>60.27</td>\n",
       "      <td>65.75</td>\n",
       "      <td>65.75</td>\n",
       "      <td>NaN</td>\n",
       "      <td>49.752045</td>\n",
       "    </tr>\n",
       "    <tr>\n",
       "      <th>255</th>\n",
       "      <td>Yugoslavia</td>\n",
       "      <td>52.06</td>\n",
       "      <td>52.06</td>\n",
       "      <td>54.80</td>\n",
       "      <td>60.27</td>\n",
       "      <td>73.97</td>\n",
       "      <td>76.71</td>\n",
       "      <td>76.71</td>\n",
       "      <td>73.97</td>\n",
       "      <td>79.45</td>\n",
       "      <td>...</td>\n",
       "      <td>NaN</td>\n",
       "      <td>NaN</td>\n",
       "      <td>NaN</td>\n",
       "      <td>NaN</td>\n",
       "      <td>NaN</td>\n",
       "      <td>NaN</td>\n",
       "      <td>NaN</td>\n",
       "      <td>NaN</td>\n",
       "      <td>NaN</td>\n",
       "      <td>90.234194</td>\n",
       "    </tr>\n",
       "    <tr>\n",
       "      <th>256</th>\n",
       "      <td>Zambia</td>\n",
       "      <td>16.44</td>\n",
       "      <td>13.70</td>\n",
       "      <td>13.70</td>\n",
       "      <td>16.44</td>\n",
       "      <td>16.44</td>\n",
       "      <td>16.44</td>\n",
       "      <td>24.66</td>\n",
       "      <td>30.14</td>\n",
       "      <td>32.88</td>\n",
       "      <td>...</td>\n",
       "      <td>38.36</td>\n",
       "      <td>30.14</td>\n",
       "      <td>27.40</td>\n",
       "      <td>41.10</td>\n",
       "      <td>38.36</td>\n",
       "      <td>32.88</td>\n",
       "      <td>46.58</td>\n",
       "      <td>46.58</td>\n",
       "      <td>NaN</td>\n",
       "      <td>36.429545</td>\n",
       "    </tr>\n",
       "    <tr>\n",
       "      <th>257</th>\n",
       "      <td>Zimbabwe</td>\n",
       "      <td>27.40</td>\n",
       "      <td>32.88</td>\n",
       "      <td>35.62</td>\n",
       "      <td>32.88</td>\n",
       "      <td>38.36</td>\n",
       "      <td>41.10</td>\n",
       "      <td>46.58</td>\n",
       "      <td>43.84</td>\n",
       "      <td>46.58</td>\n",
       "      <td>...</td>\n",
       "      <td>73.97</td>\n",
       "      <td>73.97</td>\n",
       "      <td>71.23</td>\n",
       "      <td>76.71</td>\n",
       "      <td>87.67</td>\n",
       "      <td>95.89</td>\n",
       "      <td>104.11</td>\n",
       "      <td>104.11</td>\n",
       "      <td>NaN</td>\n",
       "      <td>57.970909</td>\n",
       "    </tr>\n",
       "    <tr>\n",
       "      <th>258</th>\n",
       "      <td>Åland</td>\n",
       "      <td>NaN</td>\n",
       "      <td>NaN</td>\n",
       "      <td>NaN</td>\n",
       "      <td>NaN</td>\n",
       "      <td>NaN</td>\n",
       "      <td>NaN</td>\n",
       "      <td>NaN</td>\n",
       "      <td>NaN</td>\n",
       "      <td>NaN</td>\n",
       "      <td>...</td>\n",
       "      <td>NaN</td>\n",
       "      <td>NaN</td>\n",
       "      <td>NaN</td>\n",
       "      <td>NaN</td>\n",
       "      <td>NaN</td>\n",
       "      <td>NaN</td>\n",
       "      <td>NaN</td>\n",
       "      <td>NaN</td>\n",
       "      <td>NaN</td>\n",
       "      <td>NaN</td>\n",
       "    </tr>\n",
       "  </tbody>\n",
       "</table>\n",
       "<p>259 rows × 47 columns</p>\n",
       "</div>"
      ],
      "text/plain": [
       "                   Country  X1961  X1962  X1963  X1964  X1965  X1966  X1967  \\\n",
       "0                 Abkhazia    NaN    NaN    NaN    NaN    NaN    NaN    NaN   \n",
       "1              Afghanistan    NaN    NaN    NaN    NaN    NaN    NaN    NaN   \n",
       "2    Akrotiri and Dhekelia    NaN    NaN    NaN    NaN    NaN    NaN    NaN   \n",
       "3                  Albania  30.14  30.14  32.88  35.62  35.62  35.62  38.36   \n",
       "4                  Algeria  46.58  49.32  46.58  49.32  46.58  46.58  49.32   \n",
       "..                     ...    ...    ...    ...    ...    ...    ...    ...   \n",
       "254            Yemen, Rep.  27.40  30.14  24.66  24.66  35.62  38.36  41.10   \n",
       "255             Yugoslavia  52.06  52.06  54.80  60.27  73.97  76.71  76.71   \n",
       "256                 Zambia  16.44  13.70  13.70  16.44  16.44  16.44  24.66   \n",
       "257               Zimbabwe  27.40  32.88  35.62  32.88  38.36  41.10  46.58   \n",
       "258                  Åland    NaN    NaN    NaN    NaN    NaN    NaN    NaN   \n",
       "\n",
       "     X1968  X1969  ...  X1997  X1998  X1999  X2000  X2001  X2002   X2003  \\\n",
       "0      NaN    NaN  ...    NaN    NaN    NaN    NaN    NaN    NaN     NaN   \n",
       "1      NaN    NaN  ...    NaN    NaN    NaN    NaN    NaN    NaN     NaN   \n",
       "2      NaN    NaN  ...    NaN    NaN    NaN    NaN    NaN    NaN     NaN   \n",
       "3    38.36  38.36  ...  60.27  60.27  57.53  65.75  68.49  71.23   65.75   \n",
       "4    49.32  46.58  ...  79.45  54.80  60.27  82.19  79.45  82.19   84.93   \n",
       "..     ...    ...  ...    ...    ...    ...    ...    ...    ...     ...   \n",
       "254  46.58  41.10  ...  63.01  63.01  60.27  63.01  60.27  60.27   65.75   \n",
       "255  73.97  79.45  ...    NaN    NaN    NaN    NaN    NaN    NaN     NaN   \n",
       "256  30.14  32.88  ...  38.36  30.14  27.40  41.10  38.36  32.88   46.58   \n",
       "257  43.84  46.58  ...  73.97  73.97  71.23  76.71  87.67  95.89  104.11   \n",
       "258    NaN    NaN  ...    NaN    NaN    NaN    NaN    NaN    NaN     NaN   \n",
       "\n",
       "      X2004  NA..1  avg_sugar_consp  \n",
       "0       NaN    NaN              NaN  \n",
       "1       NaN    NaN              NaN  \n",
       "2       NaN    NaN              NaN  \n",
       "3     65.75    NaN        49.504318  \n",
       "4     84.93    NaN        67.995227  \n",
       "..      ...    ...              ...  \n",
       "254   65.75    NaN        49.752045  \n",
       "255     NaN    NaN        90.234194  \n",
       "256   46.58    NaN        36.429545  \n",
       "257  104.11    NaN        57.970909  \n",
       "258     NaN    NaN              NaN  \n",
       "\n",
       "[259 rows x 47 columns]"
      ]
     },
     "execution_count": 28,
     "metadata": {},
     "output_type": "execute_result"
    }
   ],
   "source": [
    "\n",
    "#take the avg of sugar consumption over time \n",
    "dfs[\"avg_sugar_consp\"] = dfs[list(dfs.columns)[1:]].mean(axis=1,skipna = True)\n",
    "dfs.head(n=259)"
   ]
  },
  {
   "cell_type": "code",
   "execution_count": 29,
   "id": "6a4bf2b7",
   "metadata": {},
   "outputs": [
    {
     "data": {
      "text/html": [
       "<div>\n",
       "<style scoped>\n",
       "    .dataframe tbody tr th:only-of-type {\n",
       "        vertical-align: middle;\n",
       "    }\n",
       "\n",
       "    .dataframe tbody tr th {\n",
       "        vertical-align: top;\n",
       "    }\n",
       "\n",
       "    .dataframe thead th {\n",
       "        text-align: right;\n",
       "    }\n",
       "</style>\n",
       "<table border=\"1\" class=\"dataframe\">\n",
       "  <thead>\n",
       "    <tr style=\"text-align: right;\">\n",
       "      <th></th>\n",
       "      <th>Country</th>\n",
       "      <th>avg_sugar_consp</th>\n",
       "    </tr>\n",
       "  </thead>\n",
       "  <tbody>\n",
       "    <tr>\n",
       "      <th>3</th>\n",
       "      <td>Albania</td>\n",
       "      <td>49.504318</td>\n",
       "    </tr>\n",
       "    <tr>\n",
       "      <th>4</th>\n",
       "      <td>Algeria</td>\n",
       "      <td>67.995227</td>\n",
       "    </tr>\n",
       "    <tr>\n",
       "      <th>7</th>\n",
       "      <td>Angola</td>\n",
       "      <td>33.129091</td>\n",
       "    </tr>\n",
       "    <tr>\n",
       "      <th>9</th>\n",
       "      <td>Antigua and Barbuda</td>\n",
       "      <td>98.443182</td>\n",
       "    </tr>\n",
       "    <tr>\n",
       "      <th>10</th>\n",
       "      <td>Argentina</td>\n",
       "      <td>111.458182</td>\n",
       "    </tr>\n",
       "    <tr>\n",
       "      <th>...</th>\n",
       "      <td>...</td>\n",
       "      <td>...</td>\n",
       "    </tr>\n",
       "    <tr>\n",
       "      <th>250</th>\n",
       "      <td>Vietnam</td>\n",
       "      <td>20.363182</td>\n",
       "    </tr>\n",
       "    <tr>\n",
       "      <th>254</th>\n",
       "      <td>Yemen, Rep.</td>\n",
       "      <td>49.752045</td>\n",
       "    </tr>\n",
       "    <tr>\n",
       "      <th>255</th>\n",
       "      <td>Yugoslavia</td>\n",
       "      <td>90.234194</td>\n",
       "    </tr>\n",
       "    <tr>\n",
       "      <th>256</th>\n",
       "      <td>Zambia</td>\n",
       "      <td>36.429545</td>\n",
       "    </tr>\n",
       "    <tr>\n",
       "      <th>257</th>\n",
       "      <td>Zimbabwe</td>\n",
       "      <td>57.970909</td>\n",
       "    </tr>\n",
       "  </tbody>\n",
       "</table>\n",
       "<p>179 rows × 2 columns</p>\n",
       "</div>"
      ],
      "text/plain": [
       "                 Country  avg_sugar_consp\n",
       "3                Albania        49.504318\n",
       "4                Algeria        67.995227\n",
       "7                 Angola        33.129091\n",
       "9    Antigua and Barbuda        98.443182\n",
       "10             Argentina       111.458182\n",
       "..                   ...              ...\n",
       "250              Vietnam        20.363182\n",
       "254          Yemen, Rep.        49.752045\n",
       "255           Yugoslavia        90.234194\n",
       "256               Zambia        36.429545\n",
       "257             Zimbabwe        57.970909\n",
       "\n",
       "[179 rows x 2 columns]"
      ]
     },
     "execution_count": 29,
     "metadata": {},
     "output_type": "execute_result"
    }
   ],
   "source": [
    "#dfs.dropna(how=\"all\", subset = list(dfs.columns)[1:], inplace=True)\n",
    "\n",
    "\n",
    "dfs.dropna(subset=[\"avg_sugar_consp\"], axis=0, inplace=True)\n",
    "\n",
    "# reset index, because we droped two rows\n",
    "df.reset_index(drop=True, inplace=True)\n",
    "\n",
    "\n",
    "#take the avg of sugar consumption over time \n",
    "#dfs[\"avg_sugar_consp\"] = dfs[list(dfs.columns)[1:]].mean(axis=1,skipna = True)\n",
    "\n",
    "dfs.drop(list(dfs.columns)[1:dfs.shape[1]-1], axis = 1, inplace = True)\n",
    "\n",
    "\n",
    "dfs.head(n=259)\n",
    "\n"
   ]
  },
  {
   "cell_type": "code",
   "execution_count": 30,
   "id": "52314e1e",
   "metadata": {},
   "outputs": [
    {
     "data": {
      "text/html": [
       "<div>\n",
       "<style scoped>\n",
       "    .dataframe tbody tr th:only-of-type {\n",
       "        vertical-align: middle;\n",
       "    }\n",
       "\n",
       "    .dataframe tbody tr th {\n",
       "        vertical-align: top;\n",
       "    }\n",
       "\n",
       "    .dataframe thead th {\n",
       "        text-align: right;\n",
       "    }\n",
       "</style>\n",
       "<table border=\"1\" class=\"dataframe\">\n",
       "  <thead>\n",
       "    <tr style=\"text-align: right;\">\n",
       "      <th></th>\n",
       "      <th>Country</th>\n",
       "      <th>DMFT_score</th>\n",
       "      <th>avg_literacy</th>\n",
       "      <th>avg_sugar_consp</th>\n",
       "    </tr>\n",
       "  </thead>\n",
       "  <tbody>\n",
       "    <tr>\n",
       "      <th>0</th>\n",
       "      <td>Saudi Arabia</td>\n",
       "      <td>5.9</td>\n",
       "      <td>80.046624</td>\n",
       "      <td>63.511591</td>\n",
       "    </tr>\n",
       "    <tr>\n",
       "      <th>1</th>\n",
       "      <td>Guatemala</td>\n",
       "      <td>5.2</td>\n",
       "      <td>69.723543</td>\n",
       "      <td>97.758182</td>\n",
       "    </tr>\n",
       "    <tr>\n",
       "      <th>2</th>\n",
       "      <td>Mauritius</td>\n",
       "      <td>4.9</td>\n",
       "      <td>84.339633</td>\n",
       "      <td>120.550000</td>\n",
       "    </tr>\n",
       "    <tr>\n",
       "      <th>3</th>\n",
       "      <td>Brunei</td>\n",
       "      <td>4.8</td>\n",
       "      <td>88.439129</td>\n",
       "      <td>108.220000</td>\n",
       "    </tr>\n",
       "    <tr>\n",
       "      <th>4</th>\n",
       "      <td>Bosnia and Herzegovina</td>\n",
       "      <td>4.8</td>\n",
       "      <td>97.332859</td>\n",
       "      <td>45.101538</td>\n",
       "    </tr>\n",
       "    <tr>\n",
       "      <th>...</th>\n",
       "      <td>...</td>\n",
       "      <td>...</td>\n",
       "      <td>...</td>\n",
       "      <td>...</td>\n",
       "    </tr>\n",
       "    <tr>\n",
       "      <th>123</th>\n",
       "      <td>Lesotho</td>\n",
       "      <td>0.4</td>\n",
       "      <td>81.027319</td>\n",
       "      <td>43.652045</td>\n",
       "    </tr>\n",
       "    <tr>\n",
       "      <th>124</th>\n",
       "      <td>Liberia</td>\n",
       "      <td>0.4</td>\n",
       "      <td>43.321710</td>\n",
       "      <td>12.143182</td>\n",
       "    </tr>\n",
       "    <tr>\n",
       "      <th>125</th>\n",
       "      <td>Togo</td>\n",
       "      <td>0.3</td>\n",
       "      <td>56.892323</td>\n",
       "      <td>12.392273</td>\n",
       "    </tr>\n",
       "    <tr>\n",
       "      <th>126</th>\n",
       "      <td>Tanzania</td>\n",
       "      <td>0.3</td>\n",
       "      <td>65.448468</td>\n",
       "      <td>17.810000</td>\n",
       "    </tr>\n",
       "    <tr>\n",
       "      <th>127</th>\n",
       "      <td>Rwanda</td>\n",
       "      <td>0.3</td>\n",
       "      <td>56.709445</td>\n",
       "      <td>2.677727</td>\n",
       "    </tr>\n",
       "  </tbody>\n",
       "</table>\n",
       "<p>128 rows × 4 columns</p>\n",
       "</div>"
      ],
      "text/plain": [
       "                    Country  DMFT_score  avg_literacy  avg_sugar_consp\n",
       "0              Saudi Arabia         5.9     80.046624        63.511591\n",
       "1                 Guatemala         5.2     69.723543        97.758182\n",
       "2                 Mauritius         4.9     84.339633       120.550000\n",
       "3                    Brunei         4.8     88.439129       108.220000\n",
       "4    Bosnia and Herzegovina         4.8     97.332859        45.101538\n",
       "..                      ...         ...           ...              ...\n",
       "123                 Lesotho         0.4     81.027319        43.652045\n",
       "124                 Liberia         0.4     43.321710        12.143182\n",
       "125                    Togo         0.3     56.892323        12.392273\n",
       "126                Tanzania         0.3     65.448468        17.810000\n",
       "127                  Rwanda         0.3     56.709445         2.677727\n",
       "\n",
       "[128 rows x 4 columns]"
      ]
     },
     "execution_count": 30,
     "metadata": {},
     "output_type": "execute_result"
    }
   ],
   "source": [
    "#creating new data frame \n",
    "new_table = dft.merge(dfal,on='Country', how = \"inner\").merge(dfs,on='Country', how = \"inner\")\n",
    "\n",
    "#finding total rows\n",
    "new_table.shape[0]\n",
    "\n",
    "new_table.head(n=128)"
   ]
  },
  {
   "cell_type": "code",
   "execution_count": 31,
   "id": "7dda2ecc",
   "metadata": {},
   "outputs": [
    {
     "data": {
      "text/html": [
       "<div>\n",
       "<style scoped>\n",
       "    .dataframe tbody tr th:only-of-type {\n",
       "        vertical-align: middle;\n",
       "    }\n",
       "\n",
       "    .dataframe tbody tr th {\n",
       "        vertical-align: top;\n",
       "    }\n",
       "\n",
       "    .dataframe thead th {\n",
       "        text-align: right;\n",
       "    }\n",
       "</style>\n",
       "<table border=\"1\" class=\"dataframe\">\n",
       "  <thead>\n",
       "    <tr style=\"text-align: right;\">\n",
       "      <th></th>\n",
       "      <th>DMFT_score</th>\n",
       "      <th>avg_literacy</th>\n",
       "      <th>avg_sugar_consp</th>\n",
       "    </tr>\n",
       "  </thead>\n",
       "  <tbody>\n",
       "    <tr>\n",
       "      <th>count</th>\n",
       "      <td>128.000000</td>\n",
       "      <td>128.000000</td>\n",
       "      <td>128.000000</td>\n",
       "    </tr>\n",
       "    <tr>\n",
       "      <th>mean</th>\n",
       "      <td>2.126953</td>\n",
       "      <td>78.044151</td>\n",
       "      <td>67.370140</td>\n",
       "    </tr>\n",
       "    <tr>\n",
       "      <th>std</th>\n",
       "      <td>1.225766</td>\n",
       "      <td>20.836732</td>\n",
       "      <td>39.423288</td>\n",
       "    </tr>\n",
       "    <tr>\n",
       "      <th>min</th>\n",
       "      <td>0.300000</td>\n",
       "      <td>18.201399</td>\n",
       "      <td>2.677727</td>\n",
       "    </tr>\n",
       "    <tr>\n",
       "      <th>25%</th>\n",
       "      <td>1.195000</td>\n",
       "      <td>66.454964</td>\n",
       "      <td>35.870096</td>\n",
       "    </tr>\n",
       "    <tr>\n",
       "      <th>50%</th>\n",
       "      <td>2.000000</td>\n",
       "      <td>84.047566</td>\n",
       "      <td>65.846477</td>\n",
       "    </tr>\n",
       "    <tr>\n",
       "      <th>75%</th>\n",
       "      <td>2.925000</td>\n",
       "      <td>96.358674</td>\n",
       "      <td>97.929432</td>\n",
       "    </tr>\n",
       "    <tr>\n",
       "      <th>max</th>\n",
       "      <td>5.900000</td>\n",
       "      <td>99.998262</td>\n",
       "      <td>156.538636</td>\n",
       "    </tr>\n",
       "  </tbody>\n",
       "</table>\n",
       "</div>"
      ],
      "text/plain": [
       "       DMFT_score  avg_literacy  avg_sugar_consp\n",
       "count  128.000000    128.000000       128.000000\n",
       "mean     2.126953     78.044151        67.370140\n",
       "std      1.225766     20.836732        39.423288\n",
       "min      0.300000     18.201399         2.677727\n",
       "25%      1.195000     66.454964        35.870096\n",
       "50%      2.000000     84.047566        65.846477\n",
       "75%      2.925000     96.358674        97.929432\n",
       "max      5.900000     99.998262       156.538636"
      ]
     },
     "execution_count": 31,
     "metadata": {},
     "output_type": "execute_result"
    }
   ],
   "source": [
    "new_table.describe()"
   ]
  },
  {
   "cell_type": "code",
   "execution_count": 32,
   "id": "e4af49d2",
   "metadata": {},
   "outputs": [
    {
     "data": {
      "text/html": [
       "<div>\n",
       "<style scoped>\n",
       "    .dataframe tbody tr th:only-of-type {\n",
       "        vertical-align: middle;\n",
       "    }\n",
       "\n",
       "    .dataframe tbody tr th {\n",
       "        vertical-align: top;\n",
       "    }\n",
       "\n",
       "    .dataframe thead th {\n",
       "        text-align: right;\n",
       "    }\n",
       "</style>\n",
       "<table border=\"1\" class=\"dataframe\">\n",
       "  <thead>\n",
       "    <tr style=\"text-align: right;\">\n",
       "      <th></th>\n",
       "      <th>avg_literacy</th>\n",
       "      <th>avg_sugar_consp</th>\n",
       "    </tr>\n",
       "  </thead>\n",
       "  <tbody>\n",
       "    <tr>\n",
       "      <th>avg_literacy</th>\n",
       "      <td>1.000000</td>\n",
       "      <td>0.568973</td>\n",
       "    </tr>\n",
       "    <tr>\n",
       "      <th>avg_sugar_consp</th>\n",
       "      <td>0.568973</td>\n",
       "      <td>1.000000</td>\n",
       "    </tr>\n",
       "  </tbody>\n",
       "</table>\n",
       "</div>"
      ],
      "text/plain": [
       "                 avg_literacy  avg_sugar_consp\n",
       "avg_literacy         1.000000         0.568973\n",
       "avg_sugar_consp      0.568973         1.000000"
      ]
     },
     "execution_count": 32,
     "metadata": {},
     "output_type": "execute_result"
    }
   ],
   "source": [
    "new_table[[\"avg_literacy\",\"avg_sugar_consp\"]].corr()\n"
   ]
  },
  {
   "cell_type": "code",
   "execution_count": 33,
   "id": "bd4298cd",
   "metadata": {},
   "outputs": [
    {
     "data": {
      "text/html": [
       "<div>\n",
       "<style scoped>\n",
       "    .dataframe tbody tr th:only-of-type {\n",
       "        vertical-align: middle;\n",
       "    }\n",
       "\n",
       "    .dataframe tbody tr th {\n",
       "        vertical-align: top;\n",
       "    }\n",
       "\n",
       "    .dataframe thead th {\n",
       "        text-align: right;\n",
       "    }\n",
       "</style>\n",
       "<table border=\"1\" class=\"dataframe\">\n",
       "  <thead>\n",
       "    <tr style=\"text-align: right;\">\n",
       "      <th></th>\n",
       "      <th>avg_literacy</th>\n",
       "      <th>DMFT_score</th>\n",
       "    </tr>\n",
       "  </thead>\n",
       "  <tbody>\n",
       "    <tr>\n",
       "      <th>avg_literacy</th>\n",
       "      <td>1.00000</td>\n",
       "      <td>0.34547</td>\n",
       "    </tr>\n",
       "    <tr>\n",
       "      <th>DMFT_score</th>\n",
       "      <td>0.34547</td>\n",
       "      <td>1.00000</td>\n",
       "    </tr>\n",
       "  </tbody>\n",
       "</table>\n",
       "</div>"
      ],
      "text/plain": [
       "              avg_literacy  DMFT_score\n",
       "avg_literacy       1.00000     0.34547\n",
       "DMFT_score         0.34547     1.00000"
      ]
     },
     "execution_count": 33,
     "metadata": {},
     "output_type": "execute_result"
    }
   ],
   "source": [
    "new_table[[\"avg_literacy\",\"DMFT_score\"]].corr()"
   ]
  },
  {
   "cell_type": "code",
   "execution_count": 34,
   "id": "244dfe1d",
   "metadata": {},
   "outputs": [
    {
     "data": {
      "text/html": [
       "<div>\n",
       "<style scoped>\n",
       "    .dataframe tbody tr th:only-of-type {\n",
       "        vertical-align: middle;\n",
       "    }\n",
       "\n",
       "    .dataframe tbody tr th {\n",
       "        vertical-align: top;\n",
       "    }\n",
       "\n",
       "    .dataframe thead th {\n",
       "        text-align: right;\n",
       "    }\n",
       "</style>\n",
       "<table border=\"1\" class=\"dataframe\">\n",
       "  <thead>\n",
       "    <tr style=\"text-align: right;\">\n",
       "      <th></th>\n",
       "      <th>avg_sugar_consp</th>\n",
       "      <th>DMFT_score</th>\n",
       "    </tr>\n",
       "  </thead>\n",
       "  <tbody>\n",
       "    <tr>\n",
       "      <th>avg_sugar_consp</th>\n",
       "      <td>1.00000</td>\n",
       "      <td>0.30467</td>\n",
       "    </tr>\n",
       "    <tr>\n",
       "      <th>DMFT_score</th>\n",
       "      <td>0.30467</td>\n",
       "      <td>1.00000</td>\n",
       "    </tr>\n",
       "  </tbody>\n",
       "</table>\n",
       "</div>"
      ],
      "text/plain": [
       "                 avg_sugar_consp  DMFT_score\n",
       "avg_sugar_consp          1.00000     0.30467\n",
       "DMFT_score               0.30467     1.00000"
      ]
     },
     "execution_count": 34,
     "metadata": {},
     "output_type": "execute_result"
    }
   ],
   "source": [
    "new_table[[\"avg_sugar_consp\",\"DMFT_score\"]].corr()"
   ]
  },
  {
   "cell_type": "code",
   "execution_count": 35,
   "id": "31411dbd",
   "metadata": {},
   "outputs": [],
   "source": [
    "#average literacy of a country and avg sugar consumption has the strongest correlatio according to this data analysis\n",
    "#avg sugar consumption and DMFT score has relatively weaker co relation, lower than that of avg literacy and DMFT score"
   ]
  },
  {
   "cell_type": "code",
   "execution_count": 36,
   "id": "80a1abd1",
   "metadata": {},
   "outputs": [
    {
     "data": {
      "text/plain": [
       "(0.0, 164.89464701317291)"
      ]
     },
     "execution_count": 36,
     "metadata": {},
     "output_type": "execute_result"
    },
    {
     "data": {
      "image/png": "[encoded data removed]",
      "text/plain": [
       "<Figure size 432x288 with 1 Axes>"
      ]
     },
     "metadata": {
      "needs_background": "light"
     },
     "output_type": "display_data"
    }
   ],
   "source": [
    "sns.regplot(x=\"avg_literacy\",y=\"avg_sugar_consp\",data=new_table)\n",
    "plt.ylim(0,)"
   ]
  },
  {
   "cell_type": "code",
   "execution_count": 37,
   "id": "23f7b9cc",
   "metadata": {},
   "outputs": [],
   "source": [
    "#we can see +ve correlation ie with increase in avg literacy the sugar consumption increase.\n",
    "#But several data points scattered and far from the fitted line, showing variability. \n",
    "#Therefore,is not that much reliable variable."
   ]
  },
  {
   "cell_type": "code",
   "execution_count": 38,
   "id": "5fe9056b",
   "metadata": {},
   "outputs": [
    {
     "data": {
      "text/plain": [
       "(0.0, 6.180000000000001)"
      ]
     },
     "execution_count": 38,
     "metadata": {},
     "output_type": "execute_result"
    },
    {
     "data": {
      "image/png": "[encoded data removed]",
      "text/plain": [
       "<Figure size 432x288 with 1 Axes>"
      ]
     },
     "metadata": {
      "needs_background": "light"
     },
     "output_type": "display_data"
    }
   ],
   "source": [
    "sns.regplot(x=\"avg_literacy\",y=\"DMFT_score\",data=new_table)\n",
    "plt.ylim(0,)"
   ]
  },
  {
   "cell_type": "code",
   "execution_count": 39,
   "id": "695ff403",
   "metadata": {},
   "outputs": [],
   "source": [
    "#avg_literacy doesnot seem to be significant predictor of DMFT_score. ie status of teeth.\n",
    "#Also, the data points are very scattered and far from the fitted line, showing lots of variability. \n",
    "#Therefore, it's not a reliable variable."
   ]
  },
  {
   "cell_type": "code",
   "execution_count": 40,
   "id": "8bf9e7f9",
   "metadata": {},
   "outputs": [
    {
     "data": {
      "text/plain": [
       "(0.0, 6.180000000000001)"
      ]
     },
     "execution_count": 40,
     "metadata": {},
     "output_type": "execute_result"
    },
    {
     "data": {
      "image/png": "[encoded data removed]",
      "text/plain": [
       "<Figure size 432x288 with 1 Axes>"
      ]
     },
     "metadata": {
      "needs_background": "light"
     },
     "output_type": "display_data"
    }
   ],
   "source": [
    "sns.regplot(x=\"avg_sugar_consp\",y=\"DMFT_score\",data=new_table)\n",
    "plt.ylim(0,)"
   ]
  },
  {
   "cell_type": "code",
   "execution_count": 41,
   "id": "b7751df6",
   "metadata": {},
   "outputs": [],
   "source": [
    "#Surprisingly, avg sugar consumption doesnot seem to be significant predictor of DMFT_score. ie status of teeth.\n",
    "\n",
    "#Also, the data points are very scattered and far from the fitted line, showing lots of variability. \n",
    "#Therefore, it's not a reliable variable."
   ]
  },
  {
   "cell_type": "code",
   "execution_count": 42,
   "id": "89bb0c55",
   "metadata": {
    "scrolled": true
   },
   "outputs": [
    {
     "name": "stdout",
     "output_type": "stream",
     "text": [
      "The Pearson Correlation Coefficient is 0.5689730095046208  with a P-value of P =  2.4351947769859316e-12\n"
     ]
    }
   ],
   "source": [
    "pearson_coef, p_value = stats.pearsonr(new_table['avg_literacy'], new_table['avg_sugar_consp'])\n",
    "print(\"The Pearson Correlation Coefficient is\", pearson_coef, \" with a P-value of P = \", p_value)  \n",
    "\n"
   ]
  },
  {
   "cell_type": "code",
   "execution_count": 43,
   "id": "86b459ba",
   "metadata": {},
   "outputs": [],
   "source": [
    "#lets take significant p value= <.05\n",
    "#Since the p-value is <0.001, the correlation between avg literacy and avg sugar consumption is statistically significant, \n",
    "#although the linear relationship isn't extremely strong (~0.568)."
   ]
  },
  {
   "cell_type": "code",
   "execution_count": 44,
   "id": "cd123ce1",
   "metadata": {},
   "outputs": [
    {
     "name": "stdout",
     "output_type": "stream",
     "text": [
      "The Pearson Correlation Coefficient is 0.3454700258997964  with a P-value of P =  6.499803061241624e-05\n"
     ]
    }
   ],
   "source": [
    "pearson_coef, p_value = stats.pearsonr(new_table['avg_literacy'], new_table['DMFT_score'])\n",
    "print(\"The Pearson Correlation Coefficient is\", pearson_coef, \" with a P-value of P = \", p_value) "
   ]
  },
  {
   "cell_type": "code",
   "execution_count": 45,
   "id": "c4c4c8b4",
   "metadata": {},
   "outputs": [],
   "source": [
    "#lets take significant p value= <.05\n",
    "#Since the p-value is <0.001, the correlation between avg literacy and avg sugar consumption is statistically significant, \n",
    "#although the linear relationship is weak (~0.34)."
   ]
  },
  {
   "cell_type": "code",
   "execution_count": 46,
   "id": "a7dda5f4",
   "metadata": {},
   "outputs": [
    {
     "name": "stdout",
     "output_type": "stream",
     "text": [
      "The Pearson Correlation Coefficient is 0.3046703316624464  with a P-value of P =  0.00047114148433512404\n"
     ]
    }
   ],
   "source": [
    "pearson_coef, p_value = stats.pearsonr(new_table['avg_sugar_consp'], new_table['DMFT_score'])\n",
    "print(\"The Pearson Correlation Coefficient is\", pearson_coef, \" with a P-value of P = \", p_value) "
   ]
  },
  {
   "cell_type": "code",
   "execution_count": 47,
   "id": "174e5fd9",
   "metadata": {},
   "outputs": [],
   "source": [
    "#lets take significant p value= <.05\n",
    "#Since the p-value is <0.001, the correlation between avg literacy and avg sugar consumption is statistically significant, \n",
    "#although the linear relationship is weak (~0.30)."
   ]
  },
  {
   "cell_type": "code",
   "execution_count": 48,
   "id": "434f6085",
   "metadata": {},
   "outputs": [],
   "source": [
    "#to predict response variable from predictor we use Data Model of simple linear regression\n",
    "#The result of Linear regression is linear function which does this prediction\n",
    "\n"
   ]
  },
  {
   "cell_type": "code",
   "execution_count": 50,
   "id": "551cc6cf",
   "metadata": {},
   "outputs": [
    {
     "data": {
      "text/plain": [
       "LinearRegression()"
      ]
     },
     "execution_count": 50,
     "metadata": {},
     "output_type": "execute_result"
    }
   ],
   "source": [
    "#Create the linear regression object:\n",
    "lm = LinearRegression()\n",
    "lm"
   ]
  },
  {
   "cell_type": "code",
   "execution_count": null,
   "id": "57e2c6cf",
   "metadata": {},
   "outputs": [],
   "source": []
  },
  {
   "cell_type": "code",
   "execution_count": 51,
   "id": "b7844016",
   "metadata": {},
   "outputs": [],
   "source": [
    "#creating linear function where X and Y as follows\n",
    "X = new_table[['avg_literacy']]\n",
    "Y = new_table[['avg_sugar_consp']]\n",
    "\n"
   ]
  },
  {
   "cell_type": "code",
   "execution_count": 52,
   "id": "f8d4bb96",
   "metadata": {},
   "outputs": [
    {
     "data": {
      "text/plain": [
       "LinearRegression()"
      ]
     },
     "execution_count": 52,
     "metadata": {},
     "output_type": "execute_result"
    }
   ],
   "source": [
    "#Fitting the linear model using defined X and Y\n",
    "lm.fit(X,Y)"
   ]
  },
  {
   "cell_type": "code",
   "execution_count": 53,
   "id": "565499b2",
   "metadata": {},
   "outputs": [
    {
     "data": {
      "text/plain": [
       "array([[69.52580689],\n",
       "       [58.41298769],\n",
       "       [74.14724041],\n",
       "       [78.56035732],\n",
       "       [88.13447694]])"
      ]
     },
     "execution_count": 53,
     "metadata": {},
     "output_type": "execute_result"
    }
   ],
   "source": [
    "#We can output a prediction\n",
    "Yhat=lm.predict(X)\n",
    "Yhat[0:5] "
   ]
  },
  {
   "cell_type": "code",
   "execution_count": 54,
   "id": "05a6d9b7",
   "metadata": {},
   "outputs": [
    {
     "data": {
      "text/plain": [
       "array([-16.64455893])"
      ]
     },
     "execution_count": 54,
     "metadata": {},
     "output_type": "execute_result"
    }
   ],
   "source": [
    "#value of the intercept (a)\n",
    "lm.intercept_"
   ]
  },
  {
   "cell_type": "code",
   "execution_count": 55,
   "id": "6ec998e1",
   "metadata": {},
   "outputs": [
    {
     "data": {
      "text/plain": [
       "array([[1.07650219]])"
      ]
     },
     "execution_count": 55,
     "metadata": {},
     "output_type": "execute_result"
    }
   ],
   "source": [
    "#value of the slope (b)\n",
    "lm.coef_"
   ]
  },
  {
   "cell_type": "code",
   "execution_count": null,
   "id": "6c168fdd",
   "metadata": {},
   "outputs": [],
   "source": [
    "#average sugar consumption = -16.64 + 1.07 * literacy rate ;( yhat =a+bx)"
   ]
  },
  {
   "cell_type": "code",
   "execution_count": null,
   "id": "f0b4db62",
   "metadata": {},
   "outputs": [],
   "source": [
    "#if we want to predict avg sugar consumption using DMFT score and avg literacy rate,we can use Multiple Linear Regression. "
   ]
  },
  {
   "cell_type": "code",
   "execution_count": 57,
   "id": "a7d83a77",
   "metadata": {},
   "outputs": [
    {
     "data": {
      "text/plain": [
       "LinearRegression()"
      ]
     },
     "execution_count": 57,
     "metadata": {},
     "output_type": "execute_result"
    }
   ],
   "source": [
    "#model development using these predictor variable\n",
    "Z = new_table[['avg_literacy', 'DMFT_score']]\n",
    "\n",
    "#fitting linear model using the variables mentioned above\n",
    "lm.fit(Z, new_table['avg_sugar_consp'])"
   ]
  },
  {
   "cell_type": "code",
   "execution_count": 58,
   "id": "7e6c7e5b",
   "metadata": {},
   "outputs": [
    {
     "data": {
      "text/plain": [
       "-18.77996576395445"
      ]
     },
     "execution_count": 58,
     "metadata": {},
     "output_type": "execute_result"
    }
   ],
   "source": [
    "#value of the intercept(a)\n",
    "lm.intercept_"
   ]
  },
  {
   "cell_type": "code",
   "execution_count": 59,
   "id": "d83212c6",
   "metadata": {},
   "outputs": [
    {
     "data": {
      "text/plain": [
       "array([0.99626333, 3.94817357])"
      ]
     },
     "execution_count": 59,
     "metadata": {},
     "output_type": "execute_result"
    }
   ],
   "source": [
    "#values of the coefficients (b1, b2, b3, b4)\n",
    "lm.coef_"
   ]
  },
  {
   "cell_type": "code",
   "execution_count": null,
   "id": "c31fb172",
   "metadata": {},
   "outputs": [],
   "source": [
    "#the linear function we get is:\n",
    "Yhat = a+b1x1+b2x2..\n",
    "avg sugar conumption = -18.779+ .996 *avg_literacy + 3.98 * DMFT_score"
   ]
  },
  {
   "cell_type": "code",
   "execution_count": 60,
   "id": "1178e269",
   "metadata": {},
   "outputs": [
    {
     "name": "stderr",
     "output_type": "stream",
     "text": [
      "/opt/anaconda3/lib/python3.9/site-packages/seaborn/_decorators.py:36: FutureWarning: Pass the following variables as keyword args: x, y. From version 0.12, the only valid positional argument will be `data`, and passing other arguments without an explicit keyword will result in an error or misinterpretation.\n",
      "  warnings.warn(\n"
     ]
    },
    {
     "data": {
      "image/png": "[encoded data removed]",
      "text/plain": [
       "<Figure size 864x720 with 1 Axes>"
      ]
     },
     "metadata": {
      "needs_background": "light"
     },
     "output_type": "display_data"
    }
   ],
   "source": [
    "#as we saw there is variance in the data when calculating avg sugar consumption and avg literacy. \n",
    "#we measure this variance using residual plot\n",
    "\n",
    "width = 12\n",
    "height = 10\n",
    "plt.figure(figsize=(width, height))\n",
    "sns.residplot(new_table['avg_literacy'], new_table['avg_sugar_consp'])\n",
    "plt.show()"
   ]
  },
  {
   "cell_type": "code",
   "execution_count": null,
   "id": "fbf90146",
   "metadata": {},
   "outputs": [],
   "source": [
    "\n",
    "#We can see from this residual plot that the residuals are not randomly spread around the x-axis, \n",
    "#leading us to believe that maybe a non-linear model is more appropriate for this data."
   ]
  },
  {
   "cell_type": "code",
   "execution_count": null,
   "id": "68b173c0",
   "metadata": {},
   "outputs": [],
   "source": [
    "#To look at the fit of the model we use distribution plot.\n",
    "#We can look at the distribution of the fitted values that result from the model and \n",
    "#compare it to the distribution of the actual values."
   ]
  },
  {
   "cell_type": "code",
   "execution_count": 62,
   "id": "bf76b375",
   "metadata": {},
   "outputs": [
    {
     "name": "stderr",
     "output_type": "stream",
     "text": [
      "/opt/anaconda3/lib/python3.9/site-packages/seaborn/distributions.py:2619: FutureWarning: `distplot` is a deprecated function and will be removed in a future version. Please adapt your code to use either `displot` (a figure-level function with similar flexibility) or `kdeplot` (an axes-level function for kernel density plots).\n",
      "  warnings.warn(msg, FutureWarning)\n",
      "/opt/anaconda3/lib/python3.9/site-packages/seaborn/distributions.py:2619: FutureWarning: `distplot` is a deprecated function and will be removed in a future version. Please adapt your code to use either `displot` (a figure-level function with similar flexibility) or `kdeplot` (an axes-level function for kernel density plots).\n",
      "  warnings.warn(msg, FutureWarning)\n"
     ]
    },
    {
     "data": {
      "image/png": "[encoded data removed]",
      "text/plain": [
       "<Figure size 864x720 with 1 Axes>"
      ]
     },
     "metadata": {
      "needs_background": "light"
     },
     "output_type": "display_data"
    }
   ],
   "source": [
    "#making prediction:\n",
    "Y_hat = lm.predict(Z)\n",
    "plt.figure(figsize=(width, height))\n",
    "\n",
    "\n",
    "ax1 = sns.distplot(new_table['avg_sugar_consp'], hist=False, color=\"r\", label=\"Actual Value\")\n",
    "sns.distplot(Y_hat, hist=False, color=\"b\", label=\"Fitted Values\" , ax=ax1)\n",
    "\n",
    "\n",
    "plt.title('Sugar Consumption vs Literacy Rate')\n",
    "plt.xlabel('Avg Literacy Rate')\n",
    "plt.ylabel('Avg Sugar Consumption')\n",
    "\n",
    "plt.show()\n",
    "plt.close()"
   ]
  },
  {
   "cell_type": "code",
   "execution_count": null,
   "id": "037f36bf",
   "metadata": {},
   "outputs": [],
   "source": [
    "#We can see that the fitted values are reasonably higher the actual values \n",
    "#There is lots of room for improvement.\n",
    "\n"
   ]
  },
  {
   "cell_type": "code",
   "execution_count": 63,
   "id": "7f7350d7",
   "metadata": {},
   "outputs": [],
   "source": [
    "#using polynomial regression\n",
    "\n",
    "def PlotPolly(model, independent_variable, dependent_variabble, Name):\n",
    "    x_new = np.linspace(15, 55, 100)\n",
    "    y_new = model(x_new)\n",
    "\n",
    "    plt.plot(independent_variable, dependent_variabble, '.', x_new, y_new, '-')\n",
    "    plt.title('Polynomial Fit with Matplotlib for Literacy rate ~ Sugar consumption')\n",
    "    ax = plt.gca()\n",
    "    ax.set_facecolor((0.898, 0.898, 0.898))\n",
    "    fig = plt.gcf()\n",
    "    plt.xlabel(Name)\n",
    "    plt.ylabel('avg_sugar_consp')\n",
    "\n",
    "    plt.show()\n",
    "    plt.close()"
   ]
  },
  {
   "cell_type": "code",
   "execution_count": 65,
   "id": "902784a8",
   "metadata": {},
   "outputs": [],
   "source": [
    "#getting the variable\n",
    "x = new_table['avg_literacy']\n",
    "y = new_table['avg_sugar_consp']"
   ]
  },
  {
   "cell_type": "code",
   "execution_count": 71,
   "id": "fd8a4672",
   "metadata": {},
   "outputs": [
    {
     "name": "stdout",
     "output_type": "stream",
     "text": [
      "            3           2\n",
      "-0.0005035 x + 0.09379 x - 4.183 x + 67.85\n"
     ]
    }
   ],
   "source": [
    "# Here we use a polynomial of the 3rd order (cubic) \n",
    "f = np.polyfit(x, y, 3)\n",
    "p = np.poly1d(f)\n",
    "print(p)"
   ]
  },
  {
   "cell_type": "code",
   "execution_count": 67,
   "id": "ab06f6e6",
   "metadata": {},
   "outputs": [
    {
     "data": {
      "image/png": "[encoded data removed]",
      "text/plain": [
       "<Figure size 432x288 with 1 Axes>"
      ]
     },
     "metadata": {
      "needs_background": "light"
     },
     "output_type": "display_data"
    }
   ],
   "source": [
    "#plot the fxn\n",
    "PlotPolly(p, x, y, 'avg_literacy')"
   ]
  },
  {
   "cell_type": "code",
   "execution_count": null,
   "id": "9b8812e5",
   "metadata": {},
   "outputs": [],
   "source": [
    "#We can see from plotting that this polynomial model is not better than linear model beacause .. \n",
    "#..generated polynomial function fails to hit more of the data points."
   ]
  },
  {
   "cell_type": "code",
   "execution_count": 91,
   "id": "67c03416",
   "metadata": {},
   "outputs": [
    {
     "name": "stdout",
     "output_type": "stream",
     "text": [
      "r^2 SLR:  0.32373028554474526\n"
     ]
    }
   ],
   "source": [
    "#To determine the accuracy of the model, we use R square and Mean Squared Error(MSE)\n",
    "#calculating r squared for Simple Linear Regression Model\n",
    "lm.fit(X, Y)\n",
    "print('r^2 SLR: ', lm.score(X, Y))"
   ]
  },
  {
   "cell_type": "code",
   "execution_count": null,
   "id": "f5a76261",
   "metadata": {},
   "outputs": [],
   "source": [
    "#32% of the variation in the output variable is explained by the input variables."
   ]
  },
  {
   "cell_type": "code",
   "execution_count": 73,
   "id": "ccfb7bb1",
   "metadata": {},
   "outputs": [
    {
     "name": "stdout",
     "output_type": "stream",
     "text": [
      "The output of the first four predicted value is:  [[69.52580689]\n",
      " [58.41298769]\n",
      " [74.14724041]\n",
      " [78.56035732]]\n"
     ]
    }
   ],
   "source": [
    "#calulating MSE for simple liner regression (SLR)\n",
    "#prediction:\n",
    "Yhat=lm.predict(X)\n",
    "print('The output of the first four predicted value is: ', Yhat[0:4])"
   ]
  },
  {
   "cell_type": "code",
   "execution_count": 74,
   "id": "3d20b22c",
   "metadata": {},
   "outputs": [],
   "source": [
    "from sklearn.metrics import mean_squared_error"
   ]
  },
  {
   "cell_type": "code",
   "execution_count": 90,
   "id": "0a0c4a0a",
   "metadata": {},
   "outputs": [
    {
     "name": "stdout",
     "output_type": "stream",
     "text": [
      "MSE for SLR:  1042.844093066362\n"
     ]
    }
   ],
   "source": [
    "#comparing predicted and actual result- MSE for SLR\n",
    "mse = mean_squared_error(new_table['avg_sugar_consp'], Yhat)\n",
    "print('MSE for SLR: ', mse)"
   ]
  },
  {
   "cell_type": "code",
   "execution_count": 88,
   "id": "11871a15",
   "metadata": {},
   "outputs": [
    {
     "name": "stdout",
     "output_type": "stream",
     "text": [
      "r^2 for MLR is:  0.33700135012367305\n"
     ]
    }
   ],
   "source": [
    "#r squared for multiple linear regression (MLR)\n",
    "# fit the model \n",
    "lm.fit(Z, new_table['avg_sugar_consp'])\n",
    "# Find the R^2\n",
    "print('r^2 for MLR is: ', lm.score(Z, new_table['avg_sugar_consp']))"
   ]
  },
  {
   "cell_type": "code",
   "execution_count": 87,
   "id": "bf6b4d9e",
   "metadata": {},
   "outputs": [
    {
     "name": "stdout",
     "output_type": "stream",
     "text": [
      "MSE for MLR:  1022.3794012296365\n"
     ]
    }
   ],
   "source": [
    "#MSE for MLR\n",
    "#prediction made\n",
    "Y_predict_multifit = lm.predict(Z)\n",
    "#compare the predicted results with the actual results\n",
    "print('MSE for MLR: ', \\\n",
    "      mean_squared_error(new_table['avg_sugar_consp'], Y_predict_multifit))"
   ]
  },
  {
   "cell_type": "code",
   "execution_count": 89,
   "id": "1af786c5",
   "metadata": {},
   "outputs": [
    {
     "name": "stdout",
     "output_type": "stream",
     "text": [
      "r^2 polynomial fit:  0.34234277357896703\n"
     ]
    }
   ],
   "source": [
    "#r^2 for polynomial fit\n",
    "from sklearn.metrics import r2_score\n",
    "r_squared = r2_score(y, p(x))\n",
    "print('r^2 polynomial fit: ', r_squared)\n",
    "\n"
   ]
  },
  {
   "cell_type": "code",
   "execution_count": null,
   "id": "6cad8718",
   "metadata": {},
   "outputs": [],
   "source": []
  },
  {
   "cell_type": "code",
   "execution_count": 84,
   "id": "d9dd70bf",
   "metadata": {},
   "outputs": [
    {
     "name": "stdout",
     "output_type": "stream",
     "text": [
      "MSE polynomial fit: 1014.1426403931612\n"
     ]
    }
   ],
   "source": [
    "#MSE for polynomial fit\n",
    "print(\"MSE polynomial fit:\",mean_squared_error(new_table['avg_sugar_consp'], p(x)))"
   ]
  },
  {
   "cell_type": "code",
   "execution_count": null,
   "id": "c5b20a0b",
   "metadata": {},
   "outputs": [],
   "source": [
    "#the model with highest r^2 and smallest MSE is better fit\n",
    "#Decesion Making: Comparing all 3 models,polynomial model has slightly higher r squared and least mean squared error.\n",
    "#Hence,polynomial is the best model to be able to predict average sugar consumption from our dataset."
   ]
  },
  {
   "cell_type": "code",
   "execution_count": 92,
   "id": "5409b756",
   "metadata": {},
   "outputs": [],
   "source": [
    "import matplotlib.pyplot as plt\n",
    "import numpy as np\n",
    "\n",
    "%matplotlib inline "
   ]
  },
  {
   "cell_type": "code",
   "execution_count": 93,
   "id": "66aa080d",
   "metadata": {},
   "outputs": [
    {
     "name": "stderr",
     "output_type": "stream",
     "text": [
      "/opt/anaconda3/lib/python3.9/site-packages/sklearn/base.py:450: UserWarning: X does not have valid feature names, but LinearRegression was fitted with feature names\n",
      "  warnings.warn(\n"
     ]
    },
    {
     "data": {
      "image/png": "[encoded data removed]",
      "text/plain": [
       "<Figure size 432x288 with 1 Axes>"
      ]
     },
     "metadata": {
      "needs_background": "light"
     },
     "output_type": "display_data"
    }
   ],
   "source": [
    "new_input=np.arange(1, 100, 1).reshape(-1, 1)\n",
    "lm.fit(X, Y)\n",
    "lm\n",
    "yhat=lm.predict(new_input)\n",
    "yhat[0:5]\n",
    "plt.plot(new_input, yhat)\n",
    "plt.show()"
   ]
  },
  {
   "cell_type": "code",
   "execution_count": 96,
   "id": "bd8437fa",
   "metadata": {},
   "outputs": [
    {
     "name": "stdout",
     "output_type": "stream",
     "text": [
      "number of test samples : 13\n",
      "number of training samples: 115\n"
     ]
    }
   ],
   "source": [
    "#model evaluation\n",
    "# Training and Testing\n",
    "#spliting your data into training and testing data.\n",
    "# We will place the target avg sugar consumption in a separate dataframe y_data\n",
    "y_data = new_table['avg_sugar_consp']\n",
    "x_data=new_table.drop('avg_sugar_consp',axis=1)\n",
    "from sklearn.model_selection import train_test_split\n",
    "\n",
    "\n",
    "x_train, x_test, y_train, y_test = train_test_split(x_data, y_data, test_size=0.10, random_state=1)\n",
    "\n",
    "\n",
    "print(\"number of test samples :\", x_test.shape[0])\n",
    "print(\"number of training samples:\",x_train.shape[0])"
   ]
  },
  {
   "cell_type": "code",
   "execution_count": null,
   "id": "1db6da07",
   "metadata": {},
   "outputs": [],
   "source": []
  },
  {
   "cell_type": "code",
   "execution_count": null,
   "id": "72bbaf79",
   "metadata": {},
   "outputs": [],
   "source": []
  },
  {
   "cell_type": "code",
   "execution_count": null,
   "id": "3e67db36",
   "metadata": {},
   "outputs": [],
   "source": []
  },
  {
   "cell_type": "code",
   "execution_count": null,
   "id": "cd619f39",
   "metadata": {},
   "outputs": [],
   "source": []
  }
 ],
 "metadata": {
  "kernelspec": {
   "display_name": "Python 3 (ipykernel)",
   "language": "python",
   "name": "python3"
  },
  "language_info": {
   "codemirror_mode": {
    "name": "ipython",
    "version": 3
   },
   "file_extension": ".py",
   "mimetype": "text/x-python",
   "name": "python",
   "nbconvert_exporter": "python",
   "pygments_lexer": "ipython3",
   "version": "3.9.12"
  }
 },
 "nbformat": 4,
 "nbformat_minor": 5
}
